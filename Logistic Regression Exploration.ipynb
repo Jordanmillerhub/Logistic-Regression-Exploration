{
 "cells": [
  {
   "cell_type": "code",
   "execution_count": 1,
   "id": "65ef0e0e",
   "metadata": {},
   "outputs": [],
   "source": [
    "import numpy as np\n",
    "import pandas as pd"
   ]
  },
  {
   "cell_type": "code",
   "execution_count": 2,
   "id": "61f7f175",
   "metadata": {},
   "outputs": [],
   "source": [
    "data_raw = pd.read_csv(\"sales-pipeline.csv\")"
   ]
  },
  {
   "cell_type": "code",
   "execution_count": 3,
   "id": "63aea257",
   "metadata": {},
   "outputs": [
    {
     "data": {
      "text/html": [
       "<div>\n",
       "<style scoped>\n",
       "    .dataframe tbody tr th:only-of-type {\n",
       "        vertical-align: middle;\n",
       "    }\n",
       "\n",
       "    .dataframe tbody tr th {\n",
       "        vertical-align: top;\n",
       "    }\n",
       "\n",
       "    .dataframe thead th {\n",
       "        text-align: right;\n",
       "    }\n",
       "</style>\n",
       "<table border=\"1\" class=\"dataframe\">\n",
       "  <thead>\n",
       "    <tr style=\"text-align: right;\">\n",
       "      <th></th>\n",
       "      <th>Date</th>\n",
       "      <th>Salesperson</th>\n",
       "      <th>Lead Name</th>\n",
       "      <th>Segment</th>\n",
       "      <th>Region</th>\n",
       "      <th>Target Close</th>\n",
       "      <th>Forecasted Monthly Revenue</th>\n",
       "      <th>Opportunity Stage</th>\n",
       "      <th>Weighted Revenue</th>\n",
       "      <th>Closed Opportunity</th>\n",
       "      <th>Active Opportunity</th>\n",
       "      <th>Latest Status Entry</th>\n",
       "    </tr>\n",
       "  </thead>\n",
       "  <tbody>\n",
       "    <tr>\n",
       "      <th>0</th>\n",
       "      <td>1/2/2011</td>\n",
       "      <td>Gerri Hinds</td>\n",
       "      <td>US_SMB_1317</td>\n",
       "      <td>SMB</td>\n",
       "      <td>US</td>\n",
       "      <td>2/2/2011</td>\n",
       "      <td>103699</td>\n",
       "      <td>Lead</td>\n",
       "      <td>10370</td>\n",
       "      <td>False</td>\n",
       "      <td>False</td>\n",
       "      <td>False</td>\n",
       "    </tr>\n",
       "    <tr>\n",
       "      <th>1</th>\n",
       "      <td>1/3/2011</td>\n",
       "      <td>David King</td>\n",
       "      <td>EMEA_Enterprise_405</td>\n",
       "      <td>Enterprise</td>\n",
       "      <td>EMEA</td>\n",
       "      <td>4/9/2011</td>\n",
       "      <td>393841</td>\n",
       "      <td>Lead</td>\n",
       "      <td>39384</td>\n",
       "      <td>False</td>\n",
       "      <td>False</td>\n",
       "      <td>False</td>\n",
       "    </tr>\n",
       "    <tr>\n",
       "      <th>2</th>\n",
       "      <td>1/6/2011</td>\n",
       "      <td>James Swanger</td>\n",
       "      <td>US_Enterprise_1466</td>\n",
       "      <td>Enterprise</td>\n",
       "      <td>US</td>\n",
       "      <td>5/4/2011</td>\n",
       "      <td>326384</td>\n",
       "      <td>Lead</td>\n",
       "      <td>32638</td>\n",
       "      <td>False</td>\n",
       "      <td>False</td>\n",
       "      <td>False</td>\n",
       "    </tr>\n",
       "    <tr>\n",
       "      <th>3</th>\n",
       "      <td>1/11/2011</td>\n",
       "      <td>Gerri Hinds</td>\n",
       "      <td>US_SMB_2291</td>\n",
       "      <td>SMB</td>\n",
       "      <td>US</td>\n",
       "      <td>2/14/2011</td>\n",
       "      <td>76316</td>\n",
       "      <td>Lead</td>\n",
       "      <td>7632</td>\n",
       "      <td>False</td>\n",
       "      <td>False</td>\n",
       "      <td>False</td>\n",
       "    </tr>\n",
       "    <tr>\n",
       "      <th>4</th>\n",
       "      <td>1/11/2011</td>\n",
       "      <td>Victor Burk</td>\n",
       "      <td>EMEA_SMB_288</td>\n",
       "      <td>SMB</td>\n",
       "      <td>EMEA</td>\n",
       "      <td>1/31/2011</td>\n",
       "      <td>162403</td>\n",
       "      <td>Lead</td>\n",
       "      <td>16240</td>\n",
       "      <td>False</td>\n",
       "      <td>False</td>\n",
       "      <td>False</td>\n",
       "    </tr>\n",
       "    <tr>\n",
       "      <th>5</th>\n",
       "      <td>1/12/2011</td>\n",
       "      <td>David King</td>\n",
       "      <td>EMEA_SMB_862</td>\n",
       "      <td>SMB</td>\n",
       "      <td>EMEA</td>\n",
       "      <td>3/16/2011</td>\n",
       "      <td>116458</td>\n",
       "      <td>Lead</td>\n",
       "      <td>11646</td>\n",
       "      <td>False</td>\n",
       "      <td>False</td>\n",
       "      <td>False</td>\n",
       "    </tr>\n",
       "    <tr>\n",
       "      <th>6</th>\n",
       "      <td>1/13/2011</td>\n",
       "      <td>Gerri Hinds</td>\n",
       "      <td>US_SMB_1891</td>\n",
       "      <td>SMB</td>\n",
       "      <td>US</td>\n",
       "      <td>2/18/2011</td>\n",
       "      <td>47174</td>\n",
       "      <td>Lead</td>\n",
       "      <td>4717</td>\n",
       "      <td>False</td>\n",
       "      <td>False</td>\n",
       "      <td>False</td>\n",
       "    </tr>\n",
       "    <tr>\n",
       "      <th>7</th>\n",
       "      <td>1/16/2011</td>\n",
       "      <td>David King</td>\n",
       "      <td>EMEA_SMB_117</td>\n",
       "      <td>SMB</td>\n",
       "      <td>EMEA</td>\n",
       "      <td>3/6/2011</td>\n",
       "      <td>102072</td>\n",
       "      <td>Lead</td>\n",
       "      <td>10207</td>\n",
       "      <td>False</td>\n",
       "      <td>False</td>\n",
       "      <td>False</td>\n",
       "    </tr>\n",
       "    <tr>\n",
       "      <th>8</th>\n",
       "      <td>1/19/2011</td>\n",
       "      <td>Victor Burk</td>\n",
       "      <td>EMEA_SMB_156</td>\n",
       "      <td>SMB</td>\n",
       "      <td>EMEA</td>\n",
       "      <td>3/3/2011</td>\n",
       "      <td>157771</td>\n",
       "      <td>Lead</td>\n",
       "      <td>15777</td>\n",
       "      <td>False</td>\n",
       "      <td>False</td>\n",
       "      <td>False</td>\n",
       "    </tr>\n",
       "    <tr>\n",
       "      <th>9</th>\n",
       "      <td>1/25/2011</td>\n",
       "      <td>Anne Smith</td>\n",
       "      <td>US_SMB_397</td>\n",
       "      <td>SMB</td>\n",
       "      <td>US</td>\n",
       "      <td>2/27/2011</td>\n",
       "      <td>103371</td>\n",
       "      <td>Lead</td>\n",
       "      <td>10337</td>\n",
       "      <td>False</td>\n",
       "      <td>False</td>\n",
       "      <td>False</td>\n",
       "    </tr>\n",
       "  </tbody>\n",
       "</table>\n",
       "</div>"
      ],
      "text/plain": [
       "        Date    Salesperson            Lead Name     Segment Region  \\\n",
       "0   1/2/2011    Gerri Hinds          US_SMB_1317         SMB     US   \n",
       "1   1/3/2011     David King  EMEA_Enterprise_405  Enterprise   EMEA   \n",
       "2   1/6/2011  James Swanger   US_Enterprise_1466  Enterprise     US   \n",
       "3  1/11/2011    Gerri Hinds          US_SMB_2291         SMB     US   \n",
       "4  1/11/2011    Victor Burk         EMEA_SMB_288         SMB   EMEA   \n",
       "5  1/12/2011     David King         EMEA_SMB_862         SMB   EMEA   \n",
       "6  1/13/2011    Gerri Hinds          US_SMB_1891         SMB     US   \n",
       "7  1/16/2011     David King         EMEA_SMB_117         SMB   EMEA   \n",
       "8  1/19/2011    Victor Burk         EMEA_SMB_156         SMB   EMEA   \n",
       "9  1/25/2011     Anne Smith           US_SMB_397         SMB     US   \n",
       "\n",
       "  Target Close  Forecasted Monthly Revenue Opportunity Stage  \\\n",
       "0     2/2/2011                      103699              Lead   \n",
       "1     4/9/2011                      393841              Lead   \n",
       "2     5/4/2011                      326384              Lead   \n",
       "3    2/14/2011                       76316              Lead   \n",
       "4    1/31/2011                      162403              Lead   \n",
       "5    3/16/2011                      116458              Lead   \n",
       "6    2/18/2011                       47174              Lead   \n",
       "7     3/6/2011                      102072              Lead   \n",
       "8     3/3/2011                      157771              Lead   \n",
       "9    2/27/2011                      103371              Lead   \n",
       "\n",
       "   Weighted Revenue  Closed Opportunity  Active Opportunity  \\\n",
       "0             10370               False               False   \n",
       "1             39384               False               False   \n",
       "2             32638               False               False   \n",
       "3              7632               False               False   \n",
       "4             16240               False               False   \n",
       "5             11646               False               False   \n",
       "6              4717               False               False   \n",
       "7             10207               False               False   \n",
       "8             15777               False               False   \n",
       "9             10337               False               False   \n",
       "\n",
       "   Latest Status Entry  \n",
       "0                False  \n",
       "1                False  \n",
       "2                False  \n",
       "3                False  \n",
       "4                False  \n",
       "5                False  \n",
       "6                False  \n",
       "7                False  \n",
       "8                False  \n",
       "9                False  "
      ]
     },
     "execution_count": 3,
     "metadata": {},
     "output_type": "execute_result"
    }
   ],
   "source": [
    "data_raw.head(10)"
   ]
  },
  {
   "cell_type": "code",
   "execution_count": 4,
   "id": "c6ea6f04",
   "metadata": {},
   "outputs": [
    {
     "data": {
      "text/plain": [
       "(20994, 12)"
      ]
     },
     "execution_count": 4,
     "metadata": {},
     "output_type": "execute_result"
    }
   ],
   "source": [
    "data_raw.shape"
   ]
  },
  {
   "cell_type": "code",
   "execution_count": 5,
   "id": "2ad697f1",
   "metadata": {},
   "outputs": [],
   "source": [
    "labels = data_raw[[\"Closed Opportunity\"]]\n",
    "features = data_raw[[\"Salesperson\", \"Region\", \"Forecasted Monthly Revenue\"]]"
   ]
  },
  {
   "cell_type": "code",
   "execution_count": 6,
   "id": "3f86423b",
   "metadata": {},
   "outputs": [
    {
     "name": "stderr",
     "output_type": "stream",
     "text": [
      "C:\\Users\\622411\\Anaconda3\\lib\\site-packages\\sklearn\\utils\\validation.py:63: DataConversionWarning: A column-vector y was passed when a 1d array was expected. Please change the shape of y to (n_samples, ), for example using ravel().\n",
      "  return f(*args, **kwargs)\n"
     ]
    },
    {
     "data": {
      "text/plain": [
       "OneHotEncoder()"
      ]
     },
     "execution_count": 6,
     "metadata": {},
     "output_type": "execute_result"
    }
   ],
   "source": [
    "from sklearn import preprocessing\n",
    "labelenc = preprocessing.LabelEncoder()\n",
    "labelenc.fit(labels)\n",
    "from sklearn.preprocessing import OneHotEncoder\n",
    "ohe = OneHotEncoder()\n",
    "ohe.fit(features)"
   ]
  },
  {
   "cell_type": "code",
   "execution_count": 7,
   "id": "367c1f56",
   "metadata": {},
   "outputs": [
    {
     "name": "stderr",
     "output_type": "stream",
     "text": [
      "C:\\Users\\622411\\Anaconda3\\lib\\site-packages\\sklearn\\utils\\validation.py:63: DataConversionWarning: A column-vector y was passed when a 1d array was expected. Please change the shape of y to (n_samples, ), for example using ravel().\n",
      "  return f(*args, **kwargs)\n"
     ]
    }
   ],
   "source": [
    "features = ohe.transform(features)\n",
    "labels = labelenc.transform(labels)"
   ]
  },
  {
   "cell_type": "code",
   "execution_count": 8,
   "id": "c9560bd7",
   "metadata": {},
   "outputs": [],
   "source": [
    "#changing to array inplace of sparse matrix \n",
    "features = features.toarray()"
   ]
  },
  {
   "cell_type": "code",
   "execution_count": 9,
   "id": "d1e161fb",
   "metadata": {},
   "outputs": [],
   "source": [
    "#assigned to X and Y for train_test_split\n",
    "X = features\n",
    "y = labels"
   ]
  },
  {
   "cell_type": "code",
   "execution_count": 10,
   "id": "4b83f41c",
   "metadata": {},
   "outputs": [],
   "source": [
    "from sklearn.model_selection import train_test_split\n",
    "X_train, X_test, y_train, y_test = train_test_split(X,y, test_size=.3, random_state = 42)"
   ]
  },
  {
   "cell_type": "code",
   "execution_count": 11,
   "id": "1daf6c46",
   "metadata": {},
   "outputs": [],
   "source": [
    "from sklearn.linear_model import LogisticRegression\n",
    "lr = LogisticRegression(random_state=42)\n",
    "lr_fit = lr.fit(X_train, y_train)\n",
    "lr_pred = lr_fit.predict(X_test)"
   ]
  },
  {
   "cell_type": "code",
   "execution_count": 12,
   "id": "ea83a3ba",
   "metadata": {},
   "outputs": [
    {
     "name": "stdout",
     "output_type": "stream",
     "text": [
      "Logistic Accuracy 0.9676139069693602\n",
      "Logistic Recall 0.9214175654853621\n"
     ]
    }
   ],
   "source": [
    "from sklearn.metrics import precision_score, recall_score, accuracy_score\n",
    "print( 'Logistic Accuracy', accuracy_score(y_test, lr_pred))\n",
    "print ('Logistic Recall', recall_score(y_test, lr_pred))"
   ]
  },
  {
   "cell_type": "markdown",
   "id": "551db84f",
   "metadata": {},
   "source": [
    "This logistic regression is predicting rate of lead closure using the salesperson, the region of business, and the forcasted revenue from the lead. \n",
    "\n",
    "When adding forecasted Revenue to the features, observed change of Accuracy from .32 to .97.\n",
    "\n",
    "This data is now overfitting and would need adjustment for future deployment but it shows the heavy weight carried by Forecasted Revenue. \n",
    "\n",
    "These observations suggests that the larger compaines that bring in more revenue indicate a high likelihood of closing.\n"
   ]
  }
 ],
 "metadata": {
  "kernelspec": {
   "display_name": "Python 3 (ipykernel)",
   "language": "python",
   "name": "python3"
  },
  "language_info": {
   "codemirror_mode": {
    "name": "ipython",
    "version": 3
   },
   "file_extension": ".py",
   "mimetype": "text/x-python",
   "name": "python",
   "nbconvert_exporter": "python",
   "pygments_lexer": "ipython3",
   "version": "3.9.12"
  }
 },
 "nbformat": 4,
 "nbformat_minor": 5
}
